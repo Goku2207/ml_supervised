{
  "nbformat": 4,
  "nbformat_minor": 0,
  "metadata": {
    "kernelspec": {
      "display_name": "Python 3",
      "language": "python",
      "name": "python3"
    },
    "language_info": {
      "codemirror_mode": {
        "name": "ipython",
        "version": 3
      },
      "file_extension": ".py",
      "mimetype": "text/x-python",
      "name": "python",
      "nbconvert_exporter": "python",
      "pygments_lexer": "ipython3",
      "version": "3.7.6"
    },
    "colab": {
      "name": "Depreciation prediction of a car model.ipynb",
      "provenance": [],
      "collapsed_sections": []
    }
  },
  "cells": [
    {
      "cell_type": "code",
      "metadata": {
        "id": "tUjMG44Ik9HK"
      },
      "source": [
        "#importing dependencies\n",
        "import numpy as np\n",
        "import pandas as pd\n",
        "from matplotlib import pyplot as plt"
      ],
      "execution_count": 1,
      "outputs": []
    },
    {
      "cell_type": "code",
      "metadata": {
        "id": "K9ija3rmk9HP",
        "colab": {
          "base_uri": "https://localhost:8080/"
        },
        "outputId": "a2105e36-12ec-4325-9c84-f5734249621a"
      },
      "source": [
        "#understanding dataset\n",
        "bdata=pd.read_csv('/content/car data.csv')\n",
        "print(bdata)"
      ],
      "execution_count": 2,
      "outputs": [
        {
          "output_type": "stream",
          "text": [
            "    Car_Name  Year  Selling_Price  ...  Seller_Type  Transmission Owner\n",
            "0       ritz  2014           3.35  ...       Dealer        Manual     0\n",
            "1        sx4  2013           4.75  ...       Dealer        Manual     0\n",
            "2       ciaz  2017           7.25  ...       Dealer        Manual     0\n",
            "3    wagon r  2011           2.85  ...       Dealer        Manual     0\n",
            "4      swift  2014           4.60  ...       Dealer        Manual     0\n",
            "..       ...   ...            ...  ...          ...           ...   ...\n",
            "296     city  2016           9.50  ...       Dealer        Manual     0\n",
            "297     brio  2015           4.00  ...       Dealer        Manual     0\n",
            "298     city  2009           3.35  ...       Dealer        Manual     0\n",
            "299     city  2017          11.50  ...       Dealer        Manual     0\n",
            "300     brio  2016           5.30  ...       Dealer        Manual     0\n",
            "\n",
            "[301 rows x 9 columns]\n"
          ],
          "name": "stdout"
        }
      ]
    },
    {
      "cell_type": "code",
      "metadata": {
        "id": "009QWNCelvzq",
        "colab": {
          "base_uri": "https://localhost:8080/",
          "height": 204
        },
        "outputId": "cf35eca4-f85c-4a7f-875b-ce6a582a31db"
      },
      "source": [
        "bdata.head()"
      ],
      "execution_count": 3,
      "outputs": [
        {
          "output_type": "execute_result",
          "data": {
            "text/html": [
              "<div>\n",
              "<style scoped>\n",
              "    .dataframe tbody tr th:only-of-type {\n",
              "        vertical-align: middle;\n",
              "    }\n",
              "\n",
              "    .dataframe tbody tr th {\n",
              "        vertical-align: top;\n",
              "    }\n",
              "\n",
              "    .dataframe thead th {\n",
              "        text-align: right;\n",
              "    }\n",
              "</style>\n",
              "<table border=\"1\" class=\"dataframe\">\n",
              "  <thead>\n",
              "    <tr style=\"text-align: right;\">\n",
              "      <th></th>\n",
              "      <th>Car_Name</th>\n",
              "      <th>Year</th>\n",
              "      <th>Selling_Price</th>\n",
              "      <th>Present_Price</th>\n",
              "      <th>Kms_Driven</th>\n",
              "      <th>Fuel_Type</th>\n",
              "      <th>Seller_Type</th>\n",
              "      <th>Transmission</th>\n",
              "      <th>Owner</th>\n",
              "    </tr>\n",
              "  </thead>\n",
              "  <tbody>\n",
              "    <tr>\n",
              "      <th>0</th>\n",
              "      <td>ritz</td>\n",
              "      <td>2014</td>\n",
              "      <td>3.35</td>\n",
              "      <td>5.59</td>\n",
              "      <td>27000</td>\n",
              "      <td>Petrol</td>\n",
              "      <td>Dealer</td>\n",
              "      <td>Manual</td>\n",
              "      <td>0</td>\n",
              "    </tr>\n",
              "    <tr>\n",
              "      <th>1</th>\n",
              "      <td>sx4</td>\n",
              "      <td>2013</td>\n",
              "      <td>4.75</td>\n",
              "      <td>9.54</td>\n",
              "      <td>43000</td>\n",
              "      <td>Diesel</td>\n",
              "      <td>Dealer</td>\n",
              "      <td>Manual</td>\n",
              "      <td>0</td>\n",
              "    </tr>\n",
              "    <tr>\n",
              "      <th>2</th>\n",
              "      <td>ciaz</td>\n",
              "      <td>2017</td>\n",
              "      <td>7.25</td>\n",
              "      <td>9.85</td>\n",
              "      <td>6900</td>\n",
              "      <td>Petrol</td>\n",
              "      <td>Dealer</td>\n",
              "      <td>Manual</td>\n",
              "      <td>0</td>\n",
              "    </tr>\n",
              "    <tr>\n",
              "      <th>3</th>\n",
              "      <td>wagon r</td>\n",
              "      <td>2011</td>\n",
              "      <td>2.85</td>\n",
              "      <td>4.15</td>\n",
              "      <td>5200</td>\n",
              "      <td>Petrol</td>\n",
              "      <td>Dealer</td>\n",
              "      <td>Manual</td>\n",
              "      <td>0</td>\n",
              "    </tr>\n",
              "    <tr>\n",
              "      <th>4</th>\n",
              "      <td>swift</td>\n",
              "      <td>2014</td>\n",
              "      <td>4.60</td>\n",
              "      <td>6.87</td>\n",
              "      <td>42450</td>\n",
              "      <td>Diesel</td>\n",
              "      <td>Dealer</td>\n",
              "      <td>Manual</td>\n",
              "      <td>0</td>\n",
              "    </tr>\n",
              "  </tbody>\n",
              "</table>\n",
              "</div>"
            ],
            "text/plain": [
              "  Car_Name  Year  Selling_Price  ...  Seller_Type  Transmission Owner\n",
              "0     ritz  2014           3.35  ...       Dealer        Manual     0\n",
              "1      sx4  2013           4.75  ...       Dealer        Manual     0\n",
              "2     ciaz  2017           7.25  ...       Dealer        Manual     0\n",
              "3  wagon r  2011           2.85  ...       Dealer        Manual     0\n",
              "4    swift  2014           4.60  ...       Dealer        Manual     0\n",
              "\n",
              "[5 rows x 9 columns]"
            ]
          },
          "metadata": {
            "tags": []
          },
          "execution_count": 3
        }
      ]
    },
    {
      "cell_type": "code",
      "metadata": {
        "id": "1yEGoy6HmB1w",
        "colab": {
          "base_uri": "https://localhost:8080/"
        },
        "outputId": "48aacd20-c5fe-432b-d6b4-3861f28bc988"
      },
      "source": [
        "bdata.Car_Name.value_counts()"
      ],
      "execution_count": 4,
      "outputs": [
        {
          "output_type": "execute_result",
          "data": {
            "text/plain": [
              "city                      26\n",
              "corolla altis             16\n",
              "verna                     14\n",
              "fortuner                  11\n",
              "brio                      10\n",
              "                          ..\n",
              "etios gd                   1\n",
              "Hero Honda CBZ extreme     1\n",
              "Hero Hunk                  1\n",
              "vitara brezza              1\n",
              "s cross                    1\n",
              "Name: Car_Name, Length: 98, dtype: int64"
            ]
          },
          "metadata": {
            "tags": []
          },
          "execution_count": 4
        }
      ]
    },
    {
      "cell_type": "code",
      "metadata": {
        "id": "VArtu7l-oFFL",
        "colab": {
          "base_uri": "https://localhost:8080/",
          "height": 450
        },
        "outputId": "dceb4872-af11-488c-a429-11032ad3ac37"
      },
      "source": [
        "pd.options.display.float_format='Rs {:,.2f}L'.format\n",
        "bdata.loc[bdata.Selling_Price.notnull()].groupby('Car_Name').Selling_Price.agg([sum,'mean','count'])"
      ],
      "execution_count": 5,
      "outputs": [
        {
          "output_type": "execute_result",
          "data": {
            "text/html": [
              "<div>\n",
              "<style scoped>\n",
              "    .dataframe tbody tr th:only-of-type {\n",
              "        vertical-align: middle;\n",
              "    }\n",
              "\n",
              "    .dataframe tbody tr th {\n",
              "        vertical-align: top;\n",
              "    }\n",
              "\n",
              "    .dataframe thead th {\n",
              "        text-align: right;\n",
              "    }\n",
              "</style>\n",
              "<table border=\"1\" class=\"dataframe\">\n",
              "  <thead>\n",
              "    <tr style=\"text-align: right;\">\n",
              "      <th></th>\n",
              "      <th>sum</th>\n",
              "      <th>mean</th>\n",
              "      <th>count</th>\n",
              "    </tr>\n",
              "    <tr>\n",
              "      <th>Car_Name</th>\n",
              "      <th></th>\n",
              "      <th></th>\n",
              "      <th></th>\n",
              "    </tr>\n",
              "  </thead>\n",
              "  <tbody>\n",
              "    <tr>\n",
              "      <th>800</th>\n",
              "      <td>Rs 0.35L</td>\n",
              "      <td>Rs 0.35L</td>\n",
              "      <td>1</td>\n",
              "    </tr>\n",
              "    <tr>\n",
              "      <th>Activa 3g</th>\n",
              "      <td>Rs 0.62L</td>\n",
              "      <td>Rs 0.31L</td>\n",
              "      <td>2</td>\n",
              "    </tr>\n",
              "    <tr>\n",
              "      <th>Activa 4g</th>\n",
              "      <td>Rs 0.40L</td>\n",
              "      <td>Rs 0.40L</td>\n",
              "      <td>1</td>\n",
              "    </tr>\n",
              "    <tr>\n",
              "      <th>Bajaj  ct 100</th>\n",
              "      <td>Rs 0.18L</td>\n",
              "      <td>Rs 0.18L</td>\n",
              "      <td>1</td>\n",
              "    </tr>\n",
              "    <tr>\n",
              "      <th>Bajaj Avenger 150</th>\n",
              "      <td>Rs 0.75L</td>\n",
              "      <td>Rs 0.75L</td>\n",
              "      <td>1</td>\n",
              "    </tr>\n",
              "    <tr>\n",
              "      <th>...</th>\n",
              "      <td>...</td>\n",
              "      <td>...</td>\n",
              "      <td>...</td>\n",
              "    </tr>\n",
              "    <tr>\n",
              "      <th>sx4</th>\n",
              "      <td>Rs 18.95L</td>\n",
              "      <td>Rs 3.16L</td>\n",
              "      <td>6</td>\n",
              "    </tr>\n",
              "    <tr>\n",
              "      <th>verna</th>\n",
              "      <td>Rs 85.51L</td>\n",
              "      <td>Rs 6.11L</td>\n",
              "      <td>14</td>\n",
              "    </tr>\n",
              "    <tr>\n",
              "      <th>vitara brezza</th>\n",
              "      <td>Rs 9.25L</td>\n",
              "      <td>Rs 9.25L</td>\n",
              "      <td>1</td>\n",
              "    </tr>\n",
              "    <tr>\n",
              "      <th>wagon r</th>\n",
              "      <td>Rs 10.05L</td>\n",
              "      <td>Rs 2.51L</td>\n",
              "      <td>4</td>\n",
              "    </tr>\n",
              "    <tr>\n",
              "      <th>xcent</th>\n",
              "      <td>Rs 14.90L</td>\n",
              "      <td>Rs 4.97L</td>\n",
              "      <td>3</td>\n",
              "    </tr>\n",
              "  </tbody>\n",
              "</table>\n",
              "<p>98 rows × 3 columns</p>\n",
              "</div>"
            ],
            "text/plain": [
              "                        sum     mean  count\n",
              "Car_Name                                   \n",
              "800                Rs 0.35L Rs 0.35L      1\n",
              "Activa 3g          Rs 0.62L Rs 0.31L      2\n",
              "Activa 4g          Rs 0.40L Rs 0.40L      1\n",
              "Bajaj  ct 100      Rs 0.18L Rs 0.18L      1\n",
              "Bajaj Avenger 150  Rs 0.75L Rs 0.75L      1\n",
              "...                     ...      ...    ...\n",
              "sx4               Rs 18.95L Rs 3.16L      6\n",
              "verna             Rs 85.51L Rs 6.11L     14\n",
              "vitara brezza      Rs 9.25L Rs 9.25L      1\n",
              "wagon r           Rs 10.05L Rs 2.51L      4\n",
              "xcent             Rs 14.90L Rs 4.97L      3\n",
              "\n",
              "[98 rows x 3 columns]"
            ]
          },
          "metadata": {
            "tags": []
          },
          "execution_count": 5
        }
      ]
    },
    {
      "cell_type": "code",
      "metadata": {
        "id": "V7g-GYFlrP_a",
        "colab": {
          "base_uri": "https://localhost:8080/",
          "height": 483
        },
        "outputId": "ff782c26-35e3-4095-88e6-902fd5b78391"
      },
      "source": [
        "newd=bdata.loc[bdata.Car_Name=='verna',['Selling_Price','Present_Price','Kms_Driven']]\n",
        "newd"
      ],
      "execution_count": 6,
      "outputs": [
        {
          "output_type": "execute_result",
          "data": {
            "text/html": [
              "<div>\n",
              "<style scoped>\n",
              "    .dataframe tbody tr th:only-of-type {\n",
              "        vertical-align: middle;\n",
              "    }\n",
              "\n",
              "    .dataframe tbody tr th {\n",
              "        vertical-align: top;\n",
              "    }\n",
              "\n",
              "    .dataframe thead th {\n",
              "        text-align: right;\n",
              "    }\n",
              "</style>\n",
              "<table border=\"1\" class=\"dataframe\">\n",
              "  <thead>\n",
              "    <tr style=\"text-align: right;\">\n",
              "      <th></th>\n",
              "      <th>Selling_Price</th>\n",
              "      <th>Present_Price</th>\n",
              "      <th>Kms_Driven</th>\n",
              "    </tr>\n",
              "  </thead>\n",
              "  <tbody>\n",
              "    <tr>\n",
              "      <th>215</th>\n",
              "      <td>Rs 4.50L</td>\n",
              "      <td>Rs 9.40L</td>\n",
              "      <td>36100</td>\n",
              "    </tr>\n",
              "    <tr>\n",
              "      <th>218</th>\n",
              "      <td>Rs 6.45L</td>\n",
              "      <td>Rs 9.40L</td>\n",
              "      <td>45078</td>\n",
              "    </tr>\n",
              "    <tr>\n",
              "      <th>219</th>\n",
              "      <td>Rs 4.50L</td>\n",
              "      <td>Rs 9.40L</td>\n",
              "      <td>36000</td>\n",
              "    </tr>\n",
              "    <tr>\n",
              "      <th>223</th>\n",
              "      <td>Rs 8.25L</td>\n",
              "      <td>Rs 9.40L</td>\n",
              "      <td>61381</td>\n",
              "    </tr>\n",
              "    <tr>\n",
              "      <th>224</th>\n",
              "      <td>Rs 5.11L</td>\n",
              "      <td>Rs 9.40L</td>\n",
              "      <td>36198</td>\n",
              "    </tr>\n",
              "    <tr>\n",
              "      <th>228</th>\n",
              "      <td>Rs 4.95L</td>\n",
              "      <td>Rs 9.40L</td>\n",
              "      <td>60000</td>\n",
              "    </tr>\n",
              "    <tr>\n",
              "      <th>230</th>\n",
              "      <td>Rs 6.15L</td>\n",
              "      <td>Rs 9.40L</td>\n",
              "      <td>45000</td>\n",
              "    </tr>\n",
              "    <tr>\n",
              "      <th>231</th>\n",
              "      <td>Rs 9.25L</td>\n",
              "      <td>Rs 9.40L</td>\n",
              "      <td>15001</td>\n",
              "    </tr>\n",
              "    <tr>\n",
              "      <th>235</th>\n",
              "      <td>Rs 9.10L</td>\n",
              "      <td>Rs 9.40L</td>\n",
              "      <td>15141</td>\n",
              "    </tr>\n",
              "    <tr>\n",
              "      <th>238</th>\n",
              "      <td>Rs 4.80L</td>\n",
              "      <td>Rs 9.40L</td>\n",
              "      <td>60241</td>\n",
              "    </tr>\n",
              "    <tr>\n",
              "      <th>240</th>\n",
              "      <td>Rs 5.35L</td>\n",
              "      <td>Rs 9.40L</td>\n",
              "      <td>32322</td>\n",
              "    </tr>\n",
              "    <tr>\n",
              "      <th>244</th>\n",
              "      <td>Rs 5.95L</td>\n",
              "      <td>Rs 9.40L</td>\n",
              "      <td>49000</td>\n",
              "    </tr>\n",
              "    <tr>\n",
              "      <th>245</th>\n",
              "      <td>Rs 5.20L</td>\n",
              "      <td>Rs 9.40L</td>\n",
              "      <td>71000</td>\n",
              "    </tr>\n",
              "    <tr>\n",
              "      <th>247</th>\n",
              "      <td>Rs 5.95L</td>\n",
              "      <td>Rs 9.40L</td>\n",
              "      <td>36000</td>\n",
              "    </tr>\n",
              "  </tbody>\n",
              "</table>\n",
              "</div>"
            ],
            "text/plain": [
              "     Selling_Price  Present_Price  Kms_Driven\n",
              "215       Rs 4.50L       Rs 9.40L       36100\n",
              "218       Rs 6.45L       Rs 9.40L       45078\n",
              "219       Rs 4.50L       Rs 9.40L       36000\n",
              "223       Rs 8.25L       Rs 9.40L       61381\n",
              "224       Rs 5.11L       Rs 9.40L       36198\n",
              "228       Rs 4.95L       Rs 9.40L       60000\n",
              "230       Rs 6.15L       Rs 9.40L       45000\n",
              "231       Rs 9.25L       Rs 9.40L       15001\n",
              "235       Rs 9.10L       Rs 9.40L       15141\n",
              "238       Rs 4.80L       Rs 9.40L       60241\n",
              "240       Rs 5.35L       Rs 9.40L       32322\n",
              "244       Rs 5.95L       Rs 9.40L       49000\n",
              "245       Rs 5.20L       Rs 9.40L       71000\n",
              "247       Rs 5.95L       Rs 9.40L       36000"
            ]
          },
          "metadata": {
            "tags": []
          },
          "execution_count": 6
        }
      ]
    },
    {
      "cell_type": "code",
      "metadata": {
        "id": "G8vT_pS9tYwo",
        "colab": {
          "base_uri": "https://localhost:8080/",
          "height": 312
        },
        "outputId": "f8923fd8-e97f-4f12-c014-20d650214d3d"
      },
      "source": [
        "grplot=plt.figure()\n",
        "gr=grplot.add_subplot()\n",
        "gr.set_ylabel('Depreciation in amount till date')\n",
        "gr.set_xlabel('Kilometers driven')\n",
        "gr.set_title('Fall in selling price of Vernas vs Kilometers driven')\n",
        "gr.scatter(newd.Kms_Driven,(newd.Present_Price-newd.Selling_Price))"
      ],
      "execution_count": 7,
      "outputs": [
        {
          "output_type": "execute_result",
          "data": {
            "text/plain": [
              "<matplotlib.collections.PathCollection at 0x7fde78d87810>"
            ]
          },
          "metadata": {
            "tags": []
          },
          "execution_count": 7
        },
        {
          "output_type": "display_data",
          "data": {
            "image/png": "[encoded data removed]",
            "text/plain": [
              "<Figure size 432x288 with 1 Axes>"
            ]
          },
          "metadata": {
            "tags": [],
            "needs_background": "light"
          }
        }
      ]
    },
    {
      "cell_type": "code",
      "metadata": {
        "id": "KOgtKvXTxxZf",
        "colab": {
          "base_uri": "https://localhost:8080/"
        },
        "outputId": "605bacb8-e376-47a4-eac8-fcc2a5997c18"
      },
      "source": [
        "np.shape(bdata)"
      ],
      "execution_count": 8,
      "outputs": [
        {
          "output_type": "execute_result",
          "data": {
            "text/plain": [
              "(301, 9)"
            ]
          },
          "metadata": {
            "tags": []
          },
          "execution_count": 8
        }
      ]
    },
    {
      "cell_type": "code",
      "metadata": {
        "id": "LTAmXuEyy_Ub"
      },
      "source": [
        "X = newd.iloc[:, 2].values.reshape(-1, 1)  # values converts it into a numpy array\n",
        "Y = newd.iloc[:, 1].values.reshape(-1, 1)-newd.iloc[:, 0].values.reshape(-1, 1)"
      ],
      "execution_count": 9,
      "outputs": []
    },
    {
      "cell_type": "code",
      "metadata": {
        "id": "MwFCK7tbk9HY",
        "colab": {
          "base_uri": "https://localhost:8080/"
        },
        "outputId": "982c8397-80f9-4ea7-9362-177a01cfe177"
      },
      "source": [
        "#regression\n",
        "\n",
        "from sklearn.linear_model import LinearRegression\n",
        "reg=LinearRegression()\n",
        "reg.fit(X,Y)"
      ],
      "execution_count": 10,
      "outputs": [
        {
          "output_type": "execute_result",
          "data": {
            "text/plain": [
              "LinearRegression(copy_X=True, fit_intercept=True, n_jobs=None, normalize=False)"
            ]
          },
          "metadata": {
            "tags": []
          },
          "execution_count": 10
        }
      ]
    },
    {
      "cell_type": "code",
      "metadata": {
        "id": "p9idG9LMk9Ha"
      },
      "source": [
        "#prediction\n",
        "pred=reg.predict(X)"
      ],
      "execution_count": 11,
      "outputs": []
    },
    {
      "cell_type": "code",
      "metadata": {
        "id": "teYj3mkLk9Hc",
        "colab": {
          "base_uri": "https://localhost:8080/",
          "height": 279
        },
        "outputId": "538a6123-8d0b-4223-8ef0-41a896adf069"
      },
      "source": [
        "%matplotlib inline\n",
        "plt.scatter(X,Y,color='blue')\n",
        "plt.plot(X,pred,color='red')\n",
        "plt.xlabel('Kiometers Driven')\n",
        "plt.ylabel('Depreciation in amount till date')\n",
        "plt.show()"
      ],
      "execution_count": 14,
      "outputs": [
        {
          "output_type": "display_data",
          "data": {
            "image/png": "[encoded data removed]",
            "text/plain": [
              "<Figure size 432x288 with 1 Axes>"
            ]
          },
          "metadata": {
            "tags": [],
            "needs_background": "light"
          }
        }
      ]
    },
    {
      "cell_type": "code",
      "metadata": {
        "id": "kw4ZFA8J2w83",
        "colab": {
          "base_uri": "https://localhost:8080/"
        },
        "outputId": "259f19c6-2ed9-4f4d-b2fe-07126986de4a"
      },
      "source": [
        "#r_2 metric\n",
        "from sklearn.metrics import r2_score\n",
        "r2_score(pred,Y)"
      ],
      "execution_count": 16,
      "outputs": [
        {
          "output_type": "execute_result",
          "data": {
            "text/plain": [
              "-2.74738462031368"
            ]
          },
          "metadata": {
            "tags": []
          },
          "execution_count": 16
        }
      ]
    },
    {
      "cell_type": "code",
      "metadata": {
        "id": "_ME5e1mBk9Hd"
      },
      "source": [
        "#circumventing curve issue\n",
        "from sklearn.preprocessing import PolynomialFeatures\n",
        "#allow merging of models\n",
        "from sklearn.pipeline import make_pipeline"
      ],
      "execution_count": 17,
      "outputs": []
    },
    {
      "cell_type": "code",
      "metadata": {
        "id": "gqaCywitk9He"
      },
      "source": [
        "model=make_pipeline(PolynomialFeatures(3),reg)"
      ],
      "execution_count": 18,
      "outputs": []
    },
    {
      "cell_type": "code",
      "metadata": {
        "id": "ScD3FUpjk9Hf",
        "colab": {
          "base_uri": "https://localhost:8080/"
        },
        "outputId": "e1187298-8f41-4ca3-9dfc-012015792bc9"
      },
      "source": [
        "#fit the data\n",
        "model.fit(X,Y)"
      ],
      "execution_count": 19,
      "outputs": [
        {
          "output_type": "execute_result",
          "data": {
            "text/plain": [
              "Pipeline(memory=None,\n",
              "         steps=[('polynomialfeatures',\n",
              "                 PolynomialFeatures(degree=3, include_bias=True,\n",
              "                                    interaction_only=False, order='C')),\n",
              "                ('linearregression',\n",
              "                 LinearRegression(copy_X=True, fit_intercept=True, n_jobs=None,\n",
              "                                  normalize=False))],\n",
              "         verbose=False)"
            ]
          },
          "metadata": {
            "tags": []
          },
          "execution_count": 19
        }
      ]
    },
    {
      "cell_type": "code",
      "metadata": {
        "id": "8xDpxTs9k9Hh"
      },
      "source": [
        "preds=model.predict(X)"
      ],
      "execution_count": 20,
      "outputs": []
    },
    {
      "cell_type": "code",
      "metadata": {
        "id": "QW39FGhtk9Hh",
        "colab": {
          "base_uri": "https://localhost:8080/",
          "height": 279
        },
        "outputId": "8bd93420-9eb6-417e-abc5-334edb62a3de"
      },
      "source": [
        "%matplotlib inline\n",
        "plt.scatter(X,Y,color='blue')\n",
        "plt.plot(X,preds,color='red')\n",
        "plt.xlabel('Kiometers Driven')\n",
        "plt.ylabel('Depreciation in amount till date')\n",
        "plt.show()"
      ],
      "execution_count": null,
      "outputs": [
        {
          "output_type": "display_data",
          "data": {
            "image/png": "[encoded data removed]",
            "text/plain": [
              "<Figure size 432x288 with 1 Axes>"
            ]
          },
          "metadata": {
            "tags": [],
            "needs_background": "light"
          }
        }
      ]
    },
    {
      "cell_type": "code",
      "metadata": {
        "id": "IYmFqP3kk9Hj",
        "colab": {
          "base_uri": "https://localhost:8080/"
        },
        "outputId": "77be2911-1e27-48b4-9539-1be5e0f4bd8d"
      },
      "source": [
        "#prediction\n",
        "r2_score(preds,Y)"
      ],
      "execution_count": 21,
      "outputs": [
        {
          "output_type": "execute_result",
          "data": {
            "text/plain": [
              "0.553109688055738"
            ]
          },
          "metadata": {
            "tags": []
          },
          "execution_count": 21
        }
      ]
    },
    {
      "cell_type": "code",
      "metadata": {
        "id": "j-J1tOzBk9Hj"
      },
      "source": [
        ""
      ],
      "execution_count": null,
      "outputs": []
    }
  ]
}